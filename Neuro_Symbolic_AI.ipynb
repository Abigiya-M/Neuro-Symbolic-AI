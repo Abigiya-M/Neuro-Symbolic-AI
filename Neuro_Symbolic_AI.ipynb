{
  "nbformat": 4,
  "nbformat_minor": 0,
  "metadata": {
    "colab": {
      "provenance": [],
      "authorship_tag": "ABX9TyOkpyz0c5fp7K+R7OjryeHp",
      "include_colab_link": true
    },
    "kernelspec": {
      "name": "python3",
      "display_name": "Python 3"
    },
    "language_info": {
      "name": "python"
    }
  },
  "cells": [
    {
      "cell_type": "markdown",
      "metadata": {
        "id": "view-in-github",
        "colab_type": "text"
      },
      "source": [
        "<a href=\"https://colab.research.google.com/github/RedietNegash/Neuro-Symbolic-AI/blob/main/Neuro_Symbolic_AI.ipynb\" target=\"_parent\"><img src=\"https://colab.research.google.com/assets/colab-badge.svg\" alt=\"Open In Colab\"/></a>"
      ]
    },
    {
      "cell_type": "markdown",
      "source": [
        "**Neuro-Symbolic AI**"
      ],
      "metadata": {
        "id": "AYWTSzxoXFOV"
      }
    },
    {
      "cell_type": "markdown",
      "source": [
        "**Objectives**\n",
        "\n",
        "> Understand symbolic logic & Prolog basics\n",
        "\n",
        "> Learn how LLMs generate candidate queries\n",
        "\n",
        "> Explore integration of symbolic reasoning + neural models\n",
        "\n",
        "> Build a neuro-symbolic pipeline\n",
        "\n",
        "> Apply techniques in practical Prolog + LLM tasks"
      ],
      "metadata": {
        "id": "vXVRotgWXMQ0"
      }
    },
    {
      "cell_type": "markdown",
      "source": [
        "**Why Neuro-Symbolic AI?**"
      ],
      "metadata": {
        "id": "2k91d2ZBXr9o"
      }
    },
    {
      "cell_type": "markdown",
      "source": [
        "**Applications**"
      ],
      "metadata": {
        "id": "lkJnHt7s3pkt"
      }
    },
    {
      "cell_type": "markdown",
      "source": [
        "\n",
        "\n",
        "---\n",
        "\n"
      ],
      "metadata": {
        "id": "hfKYRUVBX4sq"
      }
    },
    {
      "cell_type": "markdown",
      "source": [
        "**Introduction to Prolog**"
      ],
      "metadata": {
        "id": "BE9x5B3I39rx"
      }
    },
    {
      "cell_type": "markdown",
      "source": [
        "* **Logic programming language**"
      ],
      "metadata": {
        "id": "2k5zbAnt-0JV"
      }
    },
    {
      "cell_type": "code",
      "source": [
        "    parent(john, mary).\n",
        "    parent(mary, alice).\n",
        "\n",
        "    grandparent(X, Y) :- parent(X, Z), parent(Z, Y).\n"
      ],
      "metadata": {
        "id": "E-1YjDB9EYDf"
      },
      "execution_count": null,
      "outputs": []
    },
    {
      "cell_type": "code",
      "source": [
        "    ?- grandparent(john, alice).\n"
      ],
      "metadata": {
        "id": "kgjLNi6dEbXZ"
      },
      "execution_count": null,
      "outputs": []
    },
    {
      "cell_type": "markdown",
      "source": [
        "* **Symobls, Variables and Names**"
      ],
      "metadata": {
        "id": "GLztfCTjCUpj"
      }
    },
    {
      "cell_type": "markdown",
      "source": [
        "```\n",
        "    mother_of\n",
        "    male\n",
        "    female\n",
        "    greater_than\n",
        "    socrates\n",
        "```\n",
        "\n"
      ],
      "metadata": {
        "id": "xp78vDHADm9z"
      }
    },
    {
      "cell_type": "markdown",
      "source": [
        "\n",
        "\n",
        "*   **Facts**\n",
        "\n"
      ],
      "metadata": {
        "id": "PV-YPkyeEp8U"
      }
    },
    {
      "cell_type": "markdown",
      "source": [
        ">   A fact is a predicate expression that makes a declarative statement about the problem domain. Whenever a variable occurs in a Prolog expression, it is assumed to be universally quantified.\n",
        "\n"
      ],
      "metadata": {
        "id": "o-7AlOOGQYtL"
      }
    },
    {
      "cell_type": "markdown",
      "source": [
        "> **Universal (∀):**\n",
        "Rules with variables are implicitly universally quantified.\n",
        "\n"
      ],
      "metadata": {
        "id": "G6mhrCYVREql"
      }
    },
    {
      "cell_type": "code",
      "source": [
        "grandparent(X, Y) :- parent(X, Z), parent(Z, Y).\n",
        "\n",
        "For all X, Y, Z → if parent(X,Z) and parent(Z,Y), then grandparent(X,Y)\n"
      ],
      "metadata": {
        "id": "6LTfXT4RRoJL"
      },
      "execution_count": null,
      "outputs": []
    },
    {
      "cell_type": "markdown",
      "source": [
        "\n",
        "\n",
        "> **Existential (∃)**: Existential quantification doesn’t appear directly in rules — instead, it comes from queries.\n",
        "\n",
        "\n"
      ],
      "metadata": {
        "id": "y0ayXAbyRvu_"
      }
    },
    {
      "cell_type": "code",
      "source": [
        "?- parent(john, X).\n",
        "Does there exist an X such that parent(john, X) is true?"
      ],
      "metadata": {
        "id": "73kTBpoZSG8z"
      },
      "execution_count": null,
      "outputs": []
    },
    {
      "cell_type": "markdown",
      "source": [
        "examples:"
      ],
      "metadata": {
        "id": "v3_R9HoFSS9U"
      }
    },
    {
      "cell_type": "code",
      "source": [
        "likes(john, susie).                   /* John likes Susie */\n",
        "likes(X, susie).                      /* Everyone likes Susie */\n",
        "likes(john, Y).                       /* John likes everybody */\n",
        "likes(john, Y), likes(Y, john).       /* John likes everybody and everybody likes John */\n",
        "likes(john, susie); likes(john,mary). /* John likes Susie or John likes Mary */\n",
        "not(likes(john,pizza)).               /* John does not like pizza */\n",
        "likes(john,susie) :- likes(john,mary)./* John likes Susie if John likes Mary."
      ],
      "metadata": {
        "id": "jRzxEX-uSads"
      },
      "execution_count": null,
      "outputs": []
    },
    {
      "cell_type": "markdown",
      "source": [
        "* **Rules**\n",
        "\n"
      ],
      "metadata": {
        "id": "sjGSQTtQSutb"
      }
    },
    {
      "cell_type": "markdown",
      "source": [
        "\n",
        "\n",
        "> A rule is a predicate expression that uses logical implication (:-) to describe a relationship among facts. Thus a Prolog rule takes the form\n",
        "\n"
      ],
      "metadata": {
        "id": "ja0PFAYTTA06"
      }
    },
    {
      "cell_type": "code",
      "source": [
        "friends(X,Y) :- likes(X,Y),likes(Y,X).\n",
        "\n",
        "premises: friends(X,Y)\n",
        "conclusion: likes(X,Y),likes(Y,X).\n",
        "\n",
        "conclusion if premises\n"
      ],
      "metadata": {
        "id": "RJ7E5IO2TSbm"
      },
      "execution_count": null,
      "outputs": []
    },
    {
      "cell_type": "markdown",
      "source": [
        "\n",
        "\n",
        "*   **Queries**\n",
        "\n"
      ],
      "metadata": {
        "id": "1PmI1wThWcsn"
      }
    },
    {
      "cell_type": "code",
      "source": [
        "father_of(joe,paul).\n",
        "father_of(joe,mary).\n",
        "\n",
        "| ?- ['family.pl'].\n",
        "| ?- father_of(joe, paul).\n",
        "true ?\n",
        "yes\n",
        "| ?- father_of(paul, mary).\n",
        "no"
      ],
      "metadata": {
        "id": "48sbIuxwXxa7"
      },
      "execution_count": null,
      "outputs": []
    },
    {
      "cell_type": "code",
      "source": [],
      "metadata": {
        "id": "pLJpEKkyXvCw"
      },
      "execution_count": null,
      "outputs": []
    },
    {
      "cell_type": "markdown",
      "source": [
        "**Static Knowledge** vs **Dynamic Knowledge**"
      ],
      "metadata": {
        "id": "xtQoDwDTYJfQ"
      }
    },
    {
      "cell_type": "markdown",
      "source": [
        "\n",
        "\n",
        "> **Static knowledge** is fixed during program execution.\n",
        "\n",
        "> Once you write it in the Prolog file, it cannot be changed while the program runs.\n",
        "\n"
      ],
      "metadata": {
        "id": "bz8xPVpzZoHO"
      }
    },
    {
      "cell_type": "code",
      "source": [
        "parent(john, mary).\n",
        "parent(mary, alice)."
      ],
      "metadata": {
        "id": "JgxL6hXxZs1j"
      },
      "execution_count": null,
      "outputs": []
    },
    {
      "cell_type": "markdown",
      "source": [
        "> **Dynamic Knowledge** can change while the program is running.\n",
        "\n",
        "> You can add, remove, or modify facts/rules dynamically.\n",
        "\n",
        "> Declared with the dynamic directive."
      ],
      "metadata": {
        "id": "AFm4z4wmZ5Hf"
      }
    },
    {
      "cell_type": "code",
      "source": [
        ":- dynamic disease/2.\n",
        "\n",
        "% Add knowledge dynamically\n",
        "assert(disease(brca1, breast_cancer)).\n",
        "assert(disease(tp53, lung_cancer)).\n",
        "\n",
        "% Query\n",
        "?- disease(brca1, Disease).\n"
      ],
      "metadata": {
        "id": "prd3CgvOab5r"
      },
      "execution_count": null,
      "outputs": []
    },
    {
      "cell_type": "markdown",
      "source": [
        "**Integrating LLMs with Prolog**"
      ],
      "metadata": {
        "id": "BtT6toSgbqfw"
      }
    },
    {
      "cell_type": "code",
      "source": [
        "1. Proposes Queries\n",
        "\n",
        "“Who is the father of Mary?”\n",
        "\n",
        "llm_query = \"father_of(X, mary)\"\n",
        "\n",
        "\n",
        "\n",
        "2. Validate query in Prolog\n",
        "\n",
        "results -> [{'X': 'joe'}]\n"
      ],
      "metadata": {
        "id": "P5vmFSAeeJkw"
      },
      "execution_count": null,
      "outputs": []
    },
    {
      "cell_type": "code",
      "source": [
        "vlidate LLM answer\n",
        "\n",
        "1. Define prolog kb\n",
        "\n",
        "% Facts\n",
        "assign_teacher(T, C) :-\n",
        "    is_certified(T, C),\n",
        "    is_available(T),\n",
        "    prefers_subject(T, C),\n",
        "    can_teach(T, C).\n",
        "\n",
        "\n",
        "2. prompt + query LLM\n",
        "\n",
        "which teacher teaches Math 101? from alex, jack, charlie, diana\n",
        "\n",
        "output: alex\n",
        "\n",
        "3. convert LLM output to prolog query\n",
        "\n",
        "assign_teacher(emily, math101).\n",
        "\n",
        "4.validate using prolog\n",
        "\n",
        "% Failed to get proof: no teacher satisfies all rules for math101\n",
        "\n"
      ],
      "metadata": {
        "id": "F5AVx8KxGlF-"
      },
      "execution_count": null,
      "outputs": []
    },
    {
      "cell_type": "markdown",
      "source": [
        "**Task**\n",
        "> Define a biological domain of knowledge and create a Prolog knowledge base with facts and rules. Design queries and use an LLM to generate facts, rules, and a single entity with a confidence score for your domain. Using the neuro-symbolic pipeline, validate and refine all LLM outputs, identify and filter inconsistent or hallucinated knowledge, and present your reasoning workflows, supported by examples of inference results and explanations."
      ],
      "metadata": {
        "id": "a6yrK_JmPixL"
      }
    },
    {
      "cell_type": "markdown",
      "source": [
        "**Submission Guideline:**\n",
        "> Fork this repository [**link**](https://github.com/RedietNegash/Neuro-Symbolic-AI) make your fork private, and don’t forget to add me as a collaborator before the presentation day."
      ],
      "metadata": {
        "id": "DzXkLJtKTlk4"
      }
    }
  ]
}